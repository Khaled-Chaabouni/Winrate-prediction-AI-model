# League of Legends Win Prediction Model

This is a simple machine learning model that predicts the chance of winning a League of Legends match based on various factors such as individual win rates, presence of AFK/intentional feeders, troll picks, and team side (blue or red).

## Prerequisites

Before running the model, make sure you have the following installed:

- Python 3
- Jupyter Notebook
- Required Python libraries: numpy, requests, sklearn, pandas, pydotplus, seaborn, matplotlib

## Usage

1. Clone the repository to your local machine:

 git clone https://github.com/Khaled-Chaabouni/Winrate-prediction-AI-model.git

2. Navigate to the project directory:

 cd league-win-prediction

3. Install the required dependencies using the provided `requirements.txt` file:

 pip install -r requirements.txt

4. Execute the following command to launch Jupyter Notebook: 

 jupyter notebook


This will open the Jupyter Notebook dashboard in your web browser.

5. In the Jupyter Notebook dashboard, navigate to the `win-prediction.ipynb` file and open it.

6. Follow the instructions in the notebook to gather data and train the model.

7. Use the trained model to make predictions on new data.

For detailed instructions and code implementation, please refer to the `win-prediction.ipynb` file.

## Model Details

The `win-prediction.ipynb` file provides a detailed explanation of the prediction model, including the data gathering process, model training, and prediction methodology. It also includes code snippets and visualizations to help you understand the model.

## Contributing

Contributions to this project are welcome. If you have any suggestions, bug reports, or feature requests, please open an issue or submit a pull request.

## License

This project is licensed under the [MIT License](LICENSE).

---

For detailed information on the model and its implementation, please refer to the `win-prediction.ipynb` file.

## Overview


